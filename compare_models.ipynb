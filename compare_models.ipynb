{
 "cells": [
  {
   "cell_type": "code",
   "execution_count": 1,
   "metadata": {},
   "outputs": [],
   "source": [
    "import pandas as pd\n",
    "import numpy as np\n",
    "import os\n",
    "\n",
    "df = pd.read_csv(r'data/data_processed.csv')\n",
    "df_continous = pd.read_csv(r'data/data_continous.csv')\n",
    "df_categorical = pd.read_csv(r'data/data_categorical.csv')\n",
    "\n",
    "# --------------------------------------------------------------------------------------------------\n",
    "# copying job satisfaction into new array\n",
    "JAtt = df['Attrition'].values\n",
    "\n",
    "df_good = pd.concat([df_categorical, df[\"MonthlyIncome\"], df[\"BusinessTravel\"], df[\"StockOptionLevel\"], df[\"DistanceFromHome\"]], axis=1)\n",
    "df = df_good.drop(['Attrition'], axis=1)\n",
    "\n",
    "# splitting inputs by row index\n",
    "# all data\n",
    "df_training = df.iloc[:1200,:]\n",
    "df_validation = df.iloc[1200:,:]\n",
    "# continous data\n",
    "df_training_continous = df_continous.iloc[:1200,:]\n",
    "df_validation_continous = df_continous.iloc[1200:,:]\n",
    "# categorical data\n",
    "df_training_categorical = df_categorical.iloc[:1200,:]\n",
    "df_validation_categorical = df_categorical.iloc[1200:,:]\n",
    "# splitting outputs by number\n",
    "JAtt_training = JAtt[:1200]\n",
    "JAtt_validation = JAtt[1200:]\n",
    "# --------------------------------------------------------------------------------------------------"
   ]
  },
  {
   "cell_type": "code",
   "execution_count": 2,
   "metadata": {},
   "outputs": [],
   "source": [
    "plot_models = []"
   ]
  },
  {
   "cell_type": "code",
   "execution_count": 3,
   "metadata": {},
   "outputs": [
    {
     "name": "stdout",
     "output_type": "stream",
     "text": [
      "              precision    recall  f1-score   support\n",
      "\n",
      "           0       0.84      0.99      0.91       221\n",
      "           1       0.73      0.16      0.27        49\n",
      "\n",
      "    accuracy                           0.84       270\n",
      "   macro avg       0.78      0.57      0.59       270\n",
      "weighted avg       0.82      0.84      0.79       270\n",
      "\n",
      "              precision    recall  f1-score   support\n",
      "\n",
      "           0       0.97      1.00      0.98      1233\n",
      "           1       0.98      0.83      0.90       237\n",
      "\n",
      "    accuracy                           0.97      1470\n",
      "   macro avg       0.98      0.91      0.94      1470\n",
      "weighted avg       0.97      0.97      0.97      1470\n",
      "\n",
      "Data accuracy:  0.837037037037037\n",
      "Data accuracy on all samples: 0.9700680272108844\n"
     ]
    }
   ],
   "source": [
    "# Random Forests\n",
    "from sklearn.ensemble import RandomForestClassifier\n",
    "from sklearn.metrics import classification_report\n",
    "\n",
    "# data classifier\n",
    "clf = RandomForestClassifier()\n",
    "\n",
    "clf.fit(df_training,JAtt_training)\n",
    "acc = clf.score(df_validation, JAtt_validation)\n",
    "acc_all = clf.score(df, JAtt)\n",
    "\n",
    "pred = clf.predict(df_validation)\n",
    "pred_all = clf.predict(df)\n",
    "\n",
    "print(classification_report(JAtt_validation, pred))\n",
    "print(classification_report(JAtt, pred_all))\n",
    "\n",
    "# print results\n",
    "print('Data accuracy: ', acc)\n",
    "print('Data accuracy on all samples:', acc_all)\n",
    "\n",
    "# print(allColumnsNames)\n",
    "\n",
    "plot_models.append({\"name\": \"RandomForestClassifier\", \"acc_new\": acc,  \"accuracy_all\": acc_all})"
   ]
  },
  {
   "cell_type": "code",
   "execution_count": 4,
   "metadata": {},
   "outputs": [
    {
     "name": "stdout",
     "output_type": "stream",
     "text": [
      "              precision    recall  f1-score   support\n",
      "\n",
      "           0       0.88      0.97      0.93      1233\n",
      "           1       0.70      0.34      0.46       237\n",
      "\n",
      "    accuracy                           0.87      1470\n",
      "   macro avg       0.79      0.66      0.69      1470\n",
      "weighted avg       0.85      0.87      0.85      1470\n",
      "\n",
      "Data accuracy on only new samples:  0.8740740740740741\n",
      "Data accuracy on all samples:  0.8700680272108844\n"
     ]
    }
   ],
   "source": [
    "from sklearn.discriminant_analysis import LinearDiscriminantAnalysis\n",
    "\n",
    "# data classifier\n",
    "clf = LinearDiscriminantAnalysis()\n",
    "\n",
    "clf.fit(df_training,JAtt_training)\n",
    "acc = clf.score(df_validation, JAtt_validation)\n",
    "acc_all = clf.score(df, JAtt)\n",
    "\n",
    "pred = clf.predict(df)\n",
    "\n",
    "print(classification_report(JAtt, pred))\n",
    "\n",
    "# print results\n",
    "print('Data accuracy on only new samples: ', acc)\n",
    "print('Data accuracy on all samples: ', acc_all)\n",
    "\n",
    "plot_models.append({\"name\": \"LinearDiscrimantAnalysis\", \"acc_new\": acc,  \"accuracy_all\": acc_all})"
   ]
  },
  {
   "cell_type": "code",
   "execution_count": 5,
   "metadata": {},
   "outputs": [
    {
     "name": "stdout",
     "output_type": "stream",
     "text": [
      "              precision    recall  f1-score   support\n",
      "\n",
      "           0       0.84      1.00      0.91      1233\n",
      "           1       0.00      0.00      0.00       237\n",
      "\n",
      "    accuracy                           0.84      1470\n",
      "   macro avg       0.42      0.50      0.46      1470\n",
      "weighted avg       0.70      0.84      0.77      1470\n",
      "\n",
      "Data accuracy on only new samples:  0.8185185185185185\n",
      "Data accuracy on all samples:  0.8387755102040816\n"
     ]
    },
    {
     "name": "stderr",
     "output_type": "stream",
     "text": [
      "c:\\Users\\siman\\AppData\\Local\\Programs\\Python\\Python310\\lib\\site-packages\\sklearn\\base.py:443: UserWarning: X has feature names, but SGDClassifier was fitted without feature names\n",
      "  warnings.warn(\n",
      "c:\\Users\\siman\\AppData\\Local\\Programs\\Python\\Python310\\lib\\site-packages\\sklearn\\base.py:443: UserWarning: X has feature names, but SGDClassifier was fitted without feature names\n",
      "  warnings.warn(\n",
      "c:\\Users\\siman\\AppData\\Local\\Programs\\Python\\Python310\\lib\\site-packages\\sklearn\\base.py:443: UserWarning: X has feature names, but SGDClassifier was fitted without feature names\n",
      "  warnings.warn(\n",
      "c:\\Users\\siman\\AppData\\Local\\Programs\\Python\\Python310\\lib\\site-packages\\sklearn\\metrics\\_classification.py:1334: UndefinedMetricWarning: Precision and F-score are ill-defined and being set to 0.0 in labels with no predicted samples. Use `zero_division` parameter to control this behavior.\n",
      "  _warn_prf(average, modifier, msg_start, len(result))\n",
      "c:\\Users\\siman\\AppData\\Local\\Programs\\Python\\Python310\\lib\\site-packages\\sklearn\\metrics\\_classification.py:1334: UndefinedMetricWarning: Precision and F-score are ill-defined and being set to 0.0 in labels with no predicted samples. Use `zero_division` parameter to control this behavior.\n",
      "  _warn_prf(average, modifier, msg_start, len(result))\n",
      "c:\\Users\\siman\\AppData\\Local\\Programs\\Python\\Python310\\lib\\site-packages\\sklearn\\metrics\\_classification.py:1334: UndefinedMetricWarning: Precision and F-score are ill-defined and being set to 0.0 in labels with no predicted samples. Use `zero_division` parameter to control this behavior.\n",
      "  _warn_prf(average, modifier, msg_start, len(result))\n"
     ]
    }
   ],
   "source": [
    "from sklearn.preprocessing import StandardScaler\n",
    "from sklearn.linear_model import SGDClassifier\n",
    "\n",
    "scaler = StandardScaler()\n",
    "df_training = scaler.fit_transform(df_training)\n",
    "maxiter = np.ceil(10**6 / 1200)\n",
    "\n",
    "clf = SGDClassifier(loss=\"hinge\", penalty=\"l2\", max_iter=maxiter, tol=1e-5)\n",
    "\n",
    "clf.fit(df_training, JAtt_training)\n",
    "acc = clf.score(df_validation, JAtt_validation)\n",
    "acc_all = clf.score(df, JAtt)\n",
    "\n",
    "pred = clf.predict(df)\n",
    "\n",
    "print(classification_report(JAtt, pred))\n",
    "\n",
    "# print results\n",
    "print('Data accuracy on only new samples: ', acc)\n",
    "print('Data accuracy on all samples: ', acc_all)\n",
    "\n",
    "plot_models.append({\"name\": \"SGDClassifier\", \"acc_new\": acc,  \"accuracy_all\": acc_all})"
   ]
  },
  {
   "cell_type": "code",
   "execution_count": 6,
   "metadata": {},
   "outputs": [
    {
     "name": "stdout",
     "output_type": "stream",
     "text": [
      "{'name': 'RandomForestClassifier', 'acc_new': 0.837037037037037, 'accuracy_all': 0.9700680272108844}\n",
      "{'name': 'LinearDiscrimantAnalysis', 'acc_new': 0.8740740740740741, 'accuracy_all': 0.8700680272108844}\n",
      "{'name': 'SGDClassifier', 'acc_new': 0.8185185185185185, 'accuracy_all': 0.8387755102040816}\n"
     ]
    },
    {
     "data": {
      "image/png": "[encoded data removed]",
      "text/plain": [
       "<Figure size 640x480 with 1 Axes>"
      ]
     },
     "metadata": {},
     "output_type": "display_data"
    }
   ],
   "source": [
    "# plot\n",
    "import matplotlib.pyplot as plt\n",
    "\n",
    "labels = []\n",
    "new_means = []\n",
    "all_means = []\n",
    "\n",
    "for model in plot_models:\n",
    "    print(model)\n",
    "    labels.append(model[\"name\"])\n",
    "    new_means.append(model[\"acc_new\"])\n",
    "    all_means.append(model[\"accuracy_all\"])\n",
    "\n",
    "\n",
    "\n",
    "x = np.arange(len(labels))  # the label locations\n",
    "width = 0.35  # the width of the bars\n",
    "\n",
    "fig, ax = plt.subplots()\n",
    "rects1 = ax.bar(x - width/2, new_means, width, label='Unseen data')\n",
    "rects2 = ax.bar(x + width/2, all_means, width, label='All data')\n",
    "\n",
    "# Add some text for labels, title and custom x-axis tick labels, etc.\n",
    "ax.set_ylabel('Accuracy Scores')\n",
    "ax.set_title('Scores by new data and all data')\n",
    "ax.set_xticks(x, labels)\n",
    "ax.legend()\n",
    "\n",
    "ax.bar_label(rects1, padding=3)\n",
    "ax.bar_label(rects2, padding=3)\n",
    "\n",
    "fig.tight_layout()\n",
    "\n",
    "plt.show()"
   ]
  }
 ],
 "metadata": {
  "kernelspec": {
   "display_name": "Python 3",
   "language": "python",
   "name": "python3"
  },
  "language_info": {
   "codemirror_mode": {
    "name": "ipython",
    "version": 3
   },
   "file_extension": ".py",
   "mimetype": "text/x-python",
   "name": "python",
   "nbconvert_exporter": "python",
   "pygments_lexer": "ipython3",
   "version": "3.10.7"
  },
  "orig_nbformat": 4,
  "vscode": {
   "interpreter": {
    "hash": "3c6a3af7cc3dd87b1c9aec9c941132942751acefef11dd989f38e57e7ca82ce1"
   }
  }
 },
 "nbformat": 4,
 "nbformat_minor": 2
}
