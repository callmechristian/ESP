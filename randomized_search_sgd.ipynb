{
 "cells": [
  {
   "cell_type": "code",
   "execution_count": 24,
   "metadata": {},
   "outputs": [],
   "source": [
    "import pandas as pd\n",
    "import numpy as np\n",
    "import os\n",
    "from sklearn.preprocessing import StandardScaler\n",
    "from sklearn.pipeline import make_pipeline\n",
    "\n",
    "from sklearn.utils import all_estimators\n",
    "from time import time\n",
    "import scipy.stats as stats\n",
    "from sklearn.utils.fixes import loguniform\n",
    "\n",
    "from sklearn.model_selection import GridSearchCV, RandomizedSearchCV\n",
    "from sklearn.datasets import load_digits\n",
    "from sklearn.linear_model import SGDClassifier\n",
    "\n",
    "df = pd.read_csv(r'data/data_processed.csv')\n",
    "df_cat = pd.read_csv(r'data/data_categorical.csv')\n",
    "\n",
    "df_good = pd.concat([df_cat, df[\"MonthlyIncome\"], df[\"BusinessTravel\"], df[\"StockOptionLevel\"], df[\"DistanceFromHome\"]], axis=1)\n",
    "\n",
    "# print(df_good)\n",
    "# copy attrition and drop from dataframe\n",
    "JAtt = df[\"Attrition\"].values\n",
    "\n",
    "df_good = df_good.drop([\"Unnamed: 0\"], axis=1)\n",
    "df_good = df_good.drop(['Attrition'], axis=1)\n",
    "# print(df_good)\n",
    "\n",
    "# splitting new df\n",
    "df_train = df_good.iloc[:1200,:]\n",
    "df_val = df_good.iloc[1200:,:]\n",
    "# splitting Jatt into new sizes\n",
    "JAtt_train = JAtt[:1200]\n",
    "JAtt_val = JAtt[1200:]\n",
    "\n",
    "from sklearn.ensemble import AdaBoostClassifier\n",
    "\n",
    "\n",
    "maxiter = np.ceil(10**6 / 1200)\n",
    "\n",
    "# clf = AdaBoostClassifier(n_estimators=300, random_state=0, learning_rate=1)\n",
    "\n"
   ]
  },
  {
   "cell_type": "code",
   "execution_count": 15,
   "metadata": {},
   "outputs": [],
   "source": [
    "from sklearn.preprocessing import StandardScaler\n",
    "\n",
    "scaler = StandardScaler()\n",
    "df_train = scaler.fit_transform(df_train)"
   ]
  },
  {
   "cell_type": "code",
   "execution_count": 18,
   "metadata": {},
   "outputs": [
    {
     "name": "stdout",
     "output_type": "stream",
     "text": [
      "              precision    recall  f1-score   support\n",
      "\n",
      "           0       0.82      1.00      0.90       221\n",
      "           1       0.00      0.00      0.00        49\n",
      "\n",
      "    accuracy                           0.82       270\n",
      "   macro avg       0.41      0.50      0.45       270\n",
      "weighted avg       0.67      0.82      0.74       270\n",
      "\n",
      "0.8185185185185185\n"
     ]
    },
    {
     "name": "stderr",
     "output_type": "stream",
     "text": [
      "c:\\Users\\siman\\AppData\\Local\\Programs\\Python\\Python310\\lib\\site-packages\\sklearn\\base.py:443: UserWarning: X has feature names, but SGDClassifier was fitted without feature names\n",
      "  warnings.warn(\n",
      "c:\\Users\\siman\\AppData\\Local\\Programs\\Python\\Python310\\lib\\site-packages\\sklearn\\metrics\\_classification.py:1334: UndefinedMetricWarning: Precision and F-score are ill-defined and being set to 0.0 in labels with no predicted samples. Use `zero_division` parameter to control this behavior.\n",
      "  _warn_prf(average, modifier, msg_start, len(result))\n",
      "c:\\Users\\siman\\AppData\\Local\\Programs\\Python\\Python310\\lib\\site-packages\\sklearn\\metrics\\_classification.py:1334: UndefinedMetricWarning: Precision and F-score are ill-defined and being set to 0.0 in labels with no predicted samples. Use `zero_division` parameter to control this behavior.\n",
      "  _warn_prf(average, modifier, msg_start, len(result))\n",
      "c:\\Users\\siman\\AppData\\Local\\Programs\\Python\\Python310\\lib\\site-packages\\sklearn\\metrics\\_classification.py:1334: UndefinedMetricWarning: Precision and F-score are ill-defined and being set to 0.0 in labels with no predicted samples. Use `zero_division` parameter to control this behavior.\n",
      "  _warn_prf(average, modifier, msg_start, len(result))\n"
     ]
    }
   ],
   "source": [
    "\n",
    "clf = SGDClassifier(loss=\"hinge\", penalty=\"l2\", max_iter=maxiter, tol=1e-5)\n",
    "\n",
    "clf.fit(df_train, JAtt_train)\n",
    "\n",
    "y_pred = clf.predict(df_val)\n",
    "\n",
    "from sklearn import metrics\n",
    "\n",
    "print(metrics.classification_report(JAtt_val, y_pred))\n",
    "print(metrics.accuracy_score(JAtt_val, y_pred))\n"
   ]
  },
  {
   "cell_type": "code",
   "execution_count": 19,
   "metadata": {},
   "outputs": [],
   "source": [
    "# Utility function to report best scores\n",
    "def report(results, n_top=3):\n",
    "    for i in range(1, n_top + 1):\n",
    "        candidates = np.flatnonzero(results[\"rank_test_score\"] == i)\n",
    "        for candidate in candidates:\n",
    "            print(\"Model with rank: {0}\".format(i))\n",
    "            print(\n",
    "                \"Mean validation score: {0:.3f} (std: {1:.3f})\".format(\n",
    "                    results[\"mean_test_score\"][candidate],\n",
    "                    results[\"std_test_score\"][candidate],\n",
    "                )\n",
    "            )\n",
    "            print(\"Parameters: {0}\".format(results[\"params\"][candidate]))\n",
    "            print(\"\")"
   ]
  },
  {
   "cell_type": "code",
   "execution_count": 35,
   "metadata": {},
   "outputs": [],
   "source": [
    "# specify parameters and distributions to sample from\n",
    "param_dist = {\n",
    "    \"loss\": [\"hinge\", \"log_loss\", \"modified_huber\", \"squared_hinge\", \"perceptron\", \"squared_error\", \"huber\", \"epsilon_insensitive\", \"squared_epsilon_insensitive\"],\n",
    "    \"average\": [True, False],\n",
    "    \"penalty\": [\"l2\", \"l1\", \"elasticnet\", None],\n",
    "    \"l1_ratio\": stats.uniform(0, 1),\n",
    "    \"alpha\": loguniform(1e-5, 1e0),\n",
    "    \"epsilon\": loguniform(1e-3, 1e0),\n",
    "    \"eta0\": stats.uniform(0, 1e4),\n",
    "    \"power_t\": stats.uniform(-1e4, 1e4)\n",
    "}"
   ]
  },
  {
   "cell_type": "code",
   "execution_count": 39,
   "metadata": {},
   "outputs": [],
   "source": [
    "# run randomized search\n",
    "n_iter_search = 1500\n",
    "random_search = RandomizedSearchCV(\n",
    "    clf, param_distributions=param_dist, n_iter=n_iter_search\n",
    ")"
   ]
  },
  {
   "cell_type": "code",
   "execution_count": 41,
   "metadata": {},
   "outputs": [
    {
     "name": "stdout",
     "output_type": "stream",
     "text": [
      "RandomizedSearchCV took 51.72 seconds for 1500 candidates parameter settings.\n",
      "Model with rank: 1\n",
      "Mean validation score: 0.846 (std: 0.005)\n",
      "Parameters: {'alpha': 0.01011128222257828, 'average': False, 'l1_ratio': 0.06358647885388169}\n",
      "\n",
      "Model with rank: 1\n",
      "Mean validation score: 0.846 (std: 0.006)\n",
      "Parameters: {'alpha': 1.0789095893157956e-05, 'average': False, 'l1_ratio': 0.7890767127846355}\n",
      "\n",
      "Model with rank: 1\n",
      "Mean validation score: 0.846 (std: 0.006)\n",
      "Parameters: {'alpha': 7.834258148017814e-05, 'average': False, 'l1_ratio': 0.6615298374022385}\n",
      "\n",
      "Model with rank: 1\n",
      "Mean validation score: 0.846 (std: 0.005)\n",
      "Parameters: {'alpha': 0.37625075988644263, 'average': False, 'l1_ratio': 0.9041917378127025}\n",
      "\n",
      "Model with rank: 1\n",
      "Mean validation score: 0.846 (std: 0.005)\n",
      "Parameters: {'alpha': 0.00010566945546559405, 'average': False, 'l1_ratio': 0.23167856279389754}\n",
      "\n"
     ]
    }
   ],
   "source": [
    "start = time()\n",
    "random_search.fit(df_train, JAtt_train)\n",
    "print(\n",
    "    \"RandomizedSearchCV took %.2f seconds for %d candidates parameter settings.\"\n",
    "    % ((time() - start), n_iter_search)\n",
    ")\n",
    "report(random_search.cv_results_)\n",
    "\n",
    "# # use a full grid over all parameters\n",
    "# param_grid = {\n",
    "#     \"average\": [True, False],\n",
    "#     \"l1_ratio\": np.linspace(0, 1, num=10),\n",
    "#     \"alpha\": np.power(10, np.arange(-2, 1, dtype=float)),\n",
    "# }\n",
    "\n",
    "# # run grid search\n",
    "# grid_search = GridSearchCV(clf, param_grid=param_grid)\n",
    "# start = time()\n",
    "# grid_search.fit(df_train, JAtt_train)\n",
    "\n",
    "# print(\n",
    "#     \"GridSearchCV took %.2f seconds for %d candidate parameter settings.\"\n",
    "#     % (time() - start, len(grid_search.cv_results_[\"params\"]))\n",
    "# )\n",
    "# report(grid_search.cv_results_)"
   ]
  }
 ],
 "metadata": {
  "kernelspec": {
   "display_name": "Python 3",
   "language": "python",
   "name": "python3"
  },
  "language_info": {
   "codemirror_mode": {
    "name": "ipython",
    "version": 3
   },
   "file_extension": ".py",
   "mimetype": "text/x-python",
   "name": "python",
   "nbconvert_exporter": "python",
   "pygments_lexer": "ipython3",
   "version": "3.10.7 (tags/v3.10.7:6cc6b13, Sep  5 2022, 14:08:36) [MSC v.1933 64 bit (AMD64)]"
  },
  "orig_nbformat": 4,
  "vscode": {
   "interpreter": {
    "hash": "3c6a3af7cc3dd87b1c9aec9c941132942751acefef11dd989f38e57e7ca82ce1"
   }
  }
 },
 "nbformat": 4,
 "nbformat_minor": 2
}
