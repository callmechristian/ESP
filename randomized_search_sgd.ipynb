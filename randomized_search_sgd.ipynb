{
 "cells": [
  {
   "cell_type": "code",
   "execution_count": 65,
   "metadata": {},
   "outputs": [
    {
     "name": "stdout",
     "output_type": "stream",
     "text": [
      "              precision    recall  f1-score   support\n",
      "\n",
      "           0       0.85      0.97      0.91       221\n",
      "           1       0.65      0.22      0.33        49\n",
      "\n",
      "    accuracy                           0.84       270\n",
      "   macro avg       0.75      0.60      0.62       270\n",
      "weighted avg       0.81      0.84      0.80       270\n",
      "\n",
      "0.837037037037037\n"
     ]
    }
   ],
   "source": [
    "import pandas as pd\n",
    "import numpy as np\n",
    "import os\n",
    "from sklearn.linear_model import SGDClassifier\n",
    "from sklearn.preprocessing import StandardScaler\n",
    "from sklearn.pipeline import make_pipeline\n",
    "from sklearn.model_selection import GridSearchCV\n",
    "\n",
    "from sklearn.utils import all_estimators\n",
    "\n",
    "df = pd.read_csv(r'data/data_processed.csv')\n",
    "df_cat = pd.read_csv(r'data/data_categorical.csv')\n",
    "\n",
    "df_good = pd.concat([df_cat, df[\"MonthlyIncome\"], df[\"BusinessTravel\"], df[\"StockOptionLevel\"], df[\"DistanceFromHome\"]], axis=1)\n",
    "\n",
    "# print(df_good)\n",
    "# copy attrition and drop from dataframe\n",
    "JAtt = df[\"Attrition\"].values\n",
    "\n",
    "df_good = df_good.drop([\"Unnamed: 0\"], axis=1)\n",
    "df_good = df_good.drop(['Attrition'], axis=1)\n",
    "# print(df_good)\n",
    "\n",
    "# splitting new df\n",
    "df_train = df_good.iloc[:1200,:]\n",
    "df_val = df_good.iloc[1200:,:]\n",
    "# splitting Jatt into new sizes\n",
    "JAtt_train = JAtt[:1200]\n",
    "JAtt_val = JAtt[1200:]\n",
    "\n",
    "from sklearn.ensemble import AdaBoostClassifier\n",
    "\n",
    "\n",
    "maxiter = np.ceil(10**6 / 1200)\n",
    "\n",
    "# clf = AdaBoostClassifier(n_estimators=300, random_state=0, learning_rate=1)\n",
    "clf = make_pipeline(StandardScaler(), SGDClassifier(loss=\"hinge\", penalty=\"l2\", max_iter=maxiter, tol=1e-5))\n",
    "\n",
    "parameters = {'kernel':('linear', 'rbf'), 'C':[1, 10]}\n",
    "clf = GridSearchCV(clf, parameters)\n",
    "clf.fit(df_train, JAtt_train)\n",
    "\n",
    "y_pred = clf.predict(df_val)\n",
    "\n",
    "from sklearn import metrics\n",
    "\n",
    "print(metrics.classification_report(JAtt_val, y_pred))\n",
    "print(metrics.accuracy_score(JAtt_val, y_pred))\n"
   ]
  },
  {
   "cell_type": "code",
   "execution_count": null,
   "metadata": {},
   "outputs": [],
   "source": []
  }
 ],
 "metadata": {
  "kernelspec": {
   "display_name": "Python 3",
   "language": "python",
   "name": "python3"
  },
  "language_info": {
   "codemirror_mode": {
    "name": "ipython",
    "version": 3
   },
   "file_extension": ".py",
   "mimetype": "text/x-python",
   "name": "python",
   "nbconvert_exporter": "python",
   "pygments_lexer": "ipython3",
   "version": "3.10.7"
  },
  "orig_nbformat": 4,
  "vscode": {
   "interpreter": {
    "hash": "3c6a3af7cc3dd87b1c9aec9c941132942751acefef11dd989f38e57e7ca82ce1"
   }
  }
 },
 "nbformat": 4,
 "nbformat_minor": 2
}
