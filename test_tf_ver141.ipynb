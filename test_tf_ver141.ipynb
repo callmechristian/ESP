{
 "cells": [
  {
   "cell_type": "code",
   "execution_count": 1,
   "metadata": {},
   "outputs": [
    {
     "name": "stdout",
     "output_type": "stream",
     "text": [
      "1176 training examples\n",
      "147 validation examples\n",
      "147 test examples\n"
     ]
    }
   ],
   "source": [
    "import pandas as pd\n",
    "import numpy as np\n",
    "import os\n",
    "import tensorflow as tf\n",
    "\n",
    "df = pd.read_csv(r'data/data_processed.csv')\n",
    "\n",
    "# --------------------------------------------------------------------------------------------------\n",
    "# split data into training, validation and test\n",
    "train, val, test = np.split(df.sample(frac=1), [int(0.8*len(df)), int(0.9*len(df))])\n",
    "\n",
    "print(len(train), 'training examples')\n",
    "print(len(val), 'validation examples')\n",
    "print(len(test), 'test examples')\n",
    "# --------------------------------------------------------------------------------------------------"
   ]
  },
  {
   "cell_type": "code",
   "execution_count": 14,
   "metadata": {},
   "outputs": [
    {
     "name": "stdout",
     "output_type": "stream",
     "text": [
      "[      DistanceFromHome  MonthlyIncome  Age\n",
      "31                   2           4227   27\n",
      "6                    2           5410   36\n",
      "1313                 7           2679   21\n",
      "1174                25          13826   52\n",
      "1245                 2           5160   55\n",
      "...                ...            ...  ...\n",
      "452                  3           3069   39\n",
      "1073                16           8020   35\n",
      "993                 16           5647   36\n",
      "67                  10           3452   37\n",
      "1207                 3           5171   59\n",
      "\n",
      "[1176 rows x 3 columns],       JobSatisfaction  EnvironmentSatisfaction  JobInvolvement  \\\n",
      "31                  4                        1               3   \n",
      "6                   2                        3               3   \n",
      "1313                2                        2               3   \n",
      "1174                4                        3               2   \n",
      "1245                4                        3               3   \n",
      "...               ...                      ...             ...   \n",
      "452                 3                        3               2   \n",
      "1073                2                        3               3   \n",
      "993                 1                        3               2   \n",
      "67                  1                        3               3   \n",
      "1207                4                        3               2   \n",
      "\n",
      "      PerformanceRating  RelationshipSatisfaction  WorkLifeBalance  \n",
      "31                    3                         2                3  \n",
      "6                     3                         4                3  \n",
      "1313                  3                         2                3  \n",
      "1174                  4                         3                3  \n",
      "1245                  3                         3                2  \n",
      "...                 ...                       ...              ...  \n",
      "452                   3                         4                3  \n",
      "1073                  3                         3                2  \n",
      "993                   3                         1                2  \n",
      "67                    4                         2                3  \n",
      "1207                  3                         4                3  \n",
      "\n",
      "[1176 rows x 6 columns]]\n",
      "31      0\n",
      "6       0\n",
      "1313    1\n",
      "1174    0\n",
      "1245    1\n",
      "       ..\n",
      "452     0\n",
      "1073    0\n",
      "993     0\n",
      "67      0\n",
      "1207    0\n",
      "Name: Attrition, Length: 1176, dtype: int64\n"
     ]
    }
   ],
   "source": [
    "# split categorical and continuous data\n",
    "# # full data set\n",
    "# header_continous = ['Age', 'DailyRate', 'DistanceFromHome', 'HourlyRate', 'MonthlyIncome', 'MonthlyRate', 'PercentSalaryHike', 'TotalWorkingYears', 'YearsAtCompany', 'YearsInCurrentRole', 'YearsSinceLastPromotion', 'YearsWithCurrManager']\n",
    "# header_categorical = ['Attrition', 'BusinessTravel', 'Department', 'Education','EducationField','EnvironmentSatisfaction','Gender','JobInvolvement','JobLevel','JobRole','JobSatisfaction','MaritalStatus','NumCompaniesWorked', 'OverTime','PerformanceRating', 'RelationshipSatisfaction', 'StockOptionLevel','TrainingTimesLastYear', 'WorkLifeBalance']\n",
    "# optimized data\n",
    "# header_continous = ['Age', 'DistanceFromHome', 'MonthlyIncome', 'TotalWorkingYears', 'YearsAtCompany', 'YearsInCurrentRole', 'YearsSinceLastPromotion', 'YearsWithCurrManager']\n",
    "header_continous = ['DistanceFromHome','MonthlyIncome', 'Age']\n",
    "# header_categorical = ['Attrition', 'BusinessTravel', 'Education','EnvironmentSatisfaction','JobInvolvement','JobLevel','JobSatisfaction','MaritalStatus','NumCompaniesWorked', 'OverTime','PerformanceRating', 'RelationshipSatisfaction', 'StockOptionLevel','TrainingTimesLastYear', 'WorkLifeBalance']\n",
    "header_categorical = ['JobSatisfaction','EnvironmentSatisfaction','JobInvolvement','PerformanceRating', 'RelationshipSatisfaction', 'WorkLifeBalance']\n",
    "\n",
    "Xh = []\n",
    "X = []\n",
    "Xh.append(header_continous)\n",
    "Xh.append(header_categorical)\n",
    "\n",
    "for h in Xh:\n",
    "    X.append(train[h])\n",
    "print(X)\n",
    "\n",
    "y = train[\"Attrition\"]\n",
    "\n"
   ]
  },
  {
   "cell_type": "code",
   "execution_count": 9,
   "metadata": {},
   "outputs": [
    {
     "ename": "NameError",
     "evalue": "name 'X' is not defined",
     "output_type": "error",
     "traceback": [
      "\u001b[1;31m---------------------------------------------------------------------------\u001b[0m",
      "\u001b[1;31mNameError\u001b[0m                                 Traceback (most recent call last)",
      "Cell \u001b[1;32mIn [9], line 3\u001b[0m\n\u001b[0;32m      1\u001b[0m \u001b[39mfrom\u001b[39;00m \u001b[39msklearn\u001b[39;00m\u001b[39m.\u001b[39;00m\u001b[39mpreprocessing\u001b[39;00m \u001b[39mimport\u001b[39;00m LabelEncoder\n\u001b[0;32m      2\u001b[0m le \u001b[39m=\u001b[39m LabelEncoder()\n\u001b[1;32m----> 3\u001b[0m X[:, \u001b[39m2\u001b[39m] \u001b[39m=\u001b[39m le\u001b[39m.\u001b[39mfit_transform(X[:, \u001b[39m2\u001b[39m])\n\u001b[0;32m      4\u001b[0m \u001b[39mprint\u001b[39m(X)\n",
      "\u001b[1;31mNameError\u001b[0m: name 'X' is not defined"
     ]
    }
   ],
   "source": [
    "from sklearn.preprocessing import LabelEncoder\n",
    "le = LabelEncoder()\n",
    "\n",
    "X[:, 2] = le.fit_transform(X[:, 2])\n",
    "print(X)"
   ]
  }
 ],
 "metadata": {
  "kernelspec": {
   "display_name": "Python 3",
   "language": "python",
   "name": "python3"
  },
  "language_info": {
   "codemirror_mode": {
    "name": "ipython",
    "version": 3
   },
   "file_extension": ".py",
   "mimetype": "text/x-python",
   "name": "python",
   "nbconvert_exporter": "python",
   "pygments_lexer": "ipython3",
   "version": "3.10.7"
  },
  "orig_nbformat": 4,
  "vscode": {
   "interpreter": {
    "hash": "3c6a3af7cc3dd87b1c9aec9c941132942751acefef11dd989f38e57e7ca82ce1"
   }
  }
 },
 "nbformat": 4,
 "nbformat_minor": 2
}
